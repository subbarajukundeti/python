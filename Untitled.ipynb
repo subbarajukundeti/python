{
 "cells": [
  {
   "cell_type": "markdown",
   "id": "132cfe56",
   "metadata": {},
   "source": [
    "# apssdc  \n",
    "## apssdc  \n",
    "### apssdc  \n",
    "#### apssdc  \n",
    "##### apssdc  \n",
    "###### apssdc  "
   ]
  },
  {
   "cell_type": "markdown",
   "id": "ec923111",
   "metadata": {},
   "source": [
    "1. I am from apssdc first line  \n",
    "2. I am subbaraju second line  \n",
    "3. I am teaching python programming third line  "
   ]
  },
  {
   "cell_type": "markdown",
   "id": "f54b397b",
   "metadata": {},
   "source": [
    "### Under List "
   ]
  },
  {
   "cell_type": "markdown",
   "id": "6bd54533",
   "metadata": {},
   "source": [
    "+ one  \n",
    "- two  \n",
    "+ three  \n",
    "* four  \n",
    "    + five  \n",
    "    - six  \n",
    "    * seven  \n",
    "        + eight  \n",
    "        - nine  \n",
    "        * zero  "
   ]
  },
  {
   "cell_type": "markdown",
   "id": "48a1c559",
   "metadata": {},
   "source": [
    "### Order List and Sub List"
   ]
  },
  {
   "cell_type": "markdown",
   "id": "3a9548db",
   "metadata": {},
   "source": [
    "1. one  \n",
    "2. two  \n",
    "3. three  \n",
    "4. four  \n",
    "    5. five  \n",
    "    6. six  \n",
    "    7. seven  \n",
    "        8. eight  \n",
    "        9. nine  \n",
    "        10. ten  "
   ]
  },
  {
   "cell_type": "markdown",
   "id": "0787c0d7",
   "metadata": {},
   "source": [
    "### Comments  "
   ]
  },
  {
   "cell_type": "markdown",
   "id": "cfcdd0b2",
   "metadata": {},
   "source": [
    "- User readable information or data  \n",
    "- comment doesnot exicute  \n",
    "- it is mentioned in '#'  \n",
    "- for multiple line comment mention in the formation of ''' '''  "
   ]
  },
  {
   "cell_type": "markdown",
   "id": "0517c55d",
   "metadata": {},
   "source": [
    "### Variable  \n",
    "- Which is used to store the data  "
   ]
  },
  {
   "cell_type": "markdown",
   "id": "91a6ca9c",
   "metadata": {},
   "source": [
    "### DATA TYPES  \n",
    "- int(all integer values)  \n",
    "- float(integer with decimal point)  \n",
    "- str(combination of characters or group of characters)  \n",
    "- complex(numbers with real and imaginary part)  \n",
    "- boolean(True,False)  "
   ]
  },
  {
   "cell_type": "code",
   "execution_count": 1,
   "id": "961a7630",
   "metadata": {},
   "outputs": [],
   "source": [
    "a=511\n",
    "b=15.33\n",
    "c=\"apssdc\"  \n",
    "d='p'\n",
    "e=1+2j\n",
    "f='1+2j'\n",
    "g=True  "
   ]
  },
  {
   "cell_type": "code",
   "execution_count": 2,
   "id": "364d9962",
   "metadata": {},
   "outputs": [
    {
     "name": "stdout",
     "output_type": "stream",
     "text": [
      "<class 'int'>\n",
      "<class 'float'>\n",
      "<class 'str'>\n",
      "<class 'str'>\n",
      "<class 'complex'>\n",
      "<class 'str'>\n",
      "<class 'bool'>\n"
     ]
    }
   ],
   "source": [
    "print(type(a))\n",
    "print(type(b))\n",
    "print(type(c))\n",
    "print(type(d))\n",
    "print(type(e))\n",
    "print(type(f))\n",
    "print(type(g))"
   ]
  }
 ],
 "metadata": {
  "kernelspec": {
   "display_name": "Python 3 (ipykernel)",
   "language": "python",
   "name": "python3"
  },
  "language_info": {
   "codemirror_mode": {
    "name": "ipython",
    "version": 3
   },
   "file_extension": ".py",
   "mimetype": "text/x-python",
   "name": "python",
   "nbconvert_exporter": "python",
   "pygments_lexer": "ipython3",
   "version": "3.9.7"
  }
 },
 "nbformat": 4,
 "nbformat_minor": 5
}
