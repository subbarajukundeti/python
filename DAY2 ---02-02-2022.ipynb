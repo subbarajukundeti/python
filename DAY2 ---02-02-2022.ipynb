{
 "cells": [
  {
   "cell_type": "markdown",
   "id": "3c0231e1",
   "metadata": {},
   "source": [
    "###  inputand output methods  \n",
    "- reading the data or information from the user is called input syntax input()  \n",
    "## two types of inputs  \n",
    "- 1. static input  \n",
    "- 2.dynamic input\n",
    "- displaying the data to the user is called the output syntax print()  \n",
    "\n"
   ]
  },
  {
   "cell_type": "code",
   "execution_count": 3,
   "id": "6d1702dd",
   "metadata": {},
   "outputs": [
    {
     "name": "stdout",
     "output_type": "stream",
     "text": [
      "5\n"
     ]
    }
   ],
   "source": [
    " a=5\n",
    " print(a)"
   ]
  },
  {
   "cell_type": "markdown",
   "id": "f738852f",
   "metadata": {},
   "source": [
    "- dynamiic input example"
   ]
  },
  {
   "cell_type": "code",
   "execution_count": 4,
   "id": "1fd84bc6",
   "metadata": {},
   "outputs": [
    {
     "name": "stdout",
     "output_type": "stream",
     "text": [
      "0708\n"
     ]
    },
    {
     "data": {
      "text/plain": [
       "'0708'"
      ]
     },
     "execution_count": 4,
     "metadata": {},
     "output_type": "execute_result"
    }
   ],
   "source": [
    "a=input()\n",
    "a"
   ]
  },
  {
   "cell_type": "code",
   "execution_count": 5,
   "id": "c5bcdeb9",
   "metadata": {},
   "outputs": [
    {
     "name": "stdout",
     "output_type": "stream",
     "text": [
      "enter a number78\n",
      "a value is 78\n"
     ]
    }
   ],
   "source": [
    "a=input(\"enter a number\")\n",
    "print(\"a value is\",a)"
   ]
  },
  {
   "cell_type": "code",
   "execution_count": 7,
   "id": "f51f1038",
   "metadata": {},
   "outputs": [
    {
     "name": "stdout",
     "output_type": "stream",
     "text": [
      "enter float value5.34\n",
      "the float value of a is  5.34\n"
     ]
    }
   ],
   "source": [
    "a=float(input(\"enter float value\"))\n",
    "print(\"the float value of a is \",a)"
   ]
  },
  {
   "cell_type": "code",
   "execution_count": 8,
   "id": "f4f2f4f8",
   "metadata": {},
   "outputs": [
    {
     "name": "stdout",
     "output_type": "stream",
     "text": [
      "a value is 5.34 b value is  7\n"
     ]
    }
   ],
   "source": [
    "b=8\n",
    "b=7\n",
    "print(\"a value is\",a,\"b value is \",b)"
   ]
  },
  {
   "cell_type": "markdown",
   "id": "0c1e57ba",
   "metadata": {},
   "source": [
    "using sep and end keywords we can separate two values  \n",
    "example:"
   ]
  },
  {
   "cell_type": "code",
   "execution_count": 9,
   "id": "f72412a8",
   "metadata": {},
   "outputs": [
    {
     "name": "stdout",
     "output_type": "stream",
     "text": [
      "5.34,7%"
     ]
    }
   ],
   "source": [
    "print(a,b,sep=\",\",end=\"%\")"
   ]
  },
  {
   "cell_type": "code",
   "execution_count": 10,
   "id": "31310a4e",
   "metadata": {},
   "outputs": [
    {
     "name": "stdout",
     "output_type": "stream",
     "text": [
      "Help on built-in function print in module builtins:\n",
      "\n",
      "print(...)\n",
      "    print(value, ..., sep=' ', end='\\n', file=sys.stdout, flush=False)\n",
      "    \n",
      "    Prints the values to a stream, or to sys.stdout by default.\n",
      "    Optional keyword arguments:\n",
      "    file:  a file-like object (stream); defaults to the current sys.stdout.\n",
      "    sep:   string inserted between values, default a space.\n",
      "    end:   string appended after the last value, default a newline.\n",
      "    flush: whether to forcibly flush the stream.\n",
      "\n"
     ]
    }
   ],
   "source": [
    "help(print)"
   ]
  },
  {
   "cell_type": "markdown",
   "id": "7b424a34",
   "metadata": {},
   "source": [
    "- generate three values from user that seprated with doloor and end with percentage and again print all three values  "
   ]
  },
  {
   "cell_type": "code",
   "execution_count": 11,
   "id": "e6ce851b",
   "metadata": {},
   "outputs": [
    {
     "name": "stdout",
     "output_type": "stream",
     "text": [
      "enter a value4\n",
      "enter b value5\n",
      "enter c value8\n",
      "4$5$8%4 5 8\n"
     ]
    }
   ],
   "source": [
    "a=input(\"enter a value\")\n",
    "b=input(\"enter b value\")\n",
    "c=input(\"enter c value\")\n",
    "print(a,b,c,sep=\"$\",end=\"%\")\n",
    "print(a,b,c)"
   ]
  },
  {
   "cell_type": "markdown",
   "id": "0990e439",
   "metadata": {},
   "source": [
    "# OPERATORS\n",
    "- Arithametic operators(+,-,%,*,**,/,//)\n",
    "  - output for the normal division is quotient\n",
    "  - output for the int division or float division is integer part of the quotient\n",
    "  - output for the modulo division is reminder\n",
    "- assignment operators(=)\n",
    "- comparision operators(<,>,<=,>=,==)\n",
    "- logical operators(and,or,not)\n",
    "- bitwise operators(&,|,^)\n",
    "- identity oprators(==),isnot(!=)\n",
    "- memebership operators(in,notin)"
   ]
  },
  {
   "cell_type": "markdown",
   "id": "b04017e8",
   "metadata": {},
   "source": [
    "# Arithametic operators"
   ]
  },
  {
   "cell_type": "code",
   "execution_count": 12,
   "id": "7ec72920",
   "metadata": {},
   "outputs": [
    {
     "name": "stdout",
     "output_type": "stream",
     "text": [
      "addation 88\n",
      "subtraction 24\n",
      "multiplication 1792\n",
      "power 87501775260248338795649138639242377629452267851964481536\n",
      "division 1.75\n",
      "int division or float division 1\n",
      "modulo division 24\n"
     ]
    }
   ],
   "source": [
    "a=56\n",
    "b=32\n",
    "print(\"addation\",a+b)\n",
    "print(\"subtraction\",a-b)\n",
    "print(\"multiplication\",a*b)\n",
    "print(\"power\",a**b)\n",
    "print(\"division\",a/b)\n",
    "print(\"int division or float division\",a//b)\n",
    "print(\"modulo division\",a%b)"
   ]
  },
  {
   "cell_type": "code",
   "execution_count": null,
   "id": "cc67b97b",
   "metadata": {},
   "outputs": [],
   "source": []
  },
  {
   "cell_type": "markdown",
   "id": "5bf969b5",
   "metadata": {},
   "source": [
    "### Assignment operators"
   ]
  },
  {
   "cell_type": "markdown",
   "id": "7d2ee57d",
   "metadata": {},
   "source": [
    "- it represented with=\n",
    "- leftside value of the operator (=) is called as variable\n",
    "- rightside value of the variable (=) is called as value"
   ]
  },
  {
   "cell_type": "code",
   "execution_count": 5,
   "id": "b73d41db",
   "metadata": {},
   "outputs": [
    {
     "name": "stdout",
     "output_type": "stream",
     "text": [
      "20\n",
      "30\n"
     ]
    }
   ],
   "source": [
    "a=20\n",
    "b=30\n",
    "print(a)\n",
    "print(b)"
   ]
  },
  {
   "cell_type": "markdown",
   "id": "038aa41c",
   "metadata": {},
   "source": [
    "### comparision operators"
   ]
  },
  {
   "cell_type": "code",
   "execution_count": 13,
   "id": "e32ece0e",
   "metadata": {},
   "outputs": [
    {
     "data": {
      "text/plain": [
       "True"
      ]
     },
     "execution_count": 13,
     "metadata": {},
     "output_type": "execute_result"
    }
   ],
   "source": [
    "25>8\n",
    "35<98"
   ]
  },
  {
   "cell_type": "code",
   "execution_count": 16,
   "id": "c039ae4c",
   "metadata": {},
   "outputs": [
    {
     "data": {
      "text/plain": [
       "True"
      ]
     },
     "execution_count": 16,
     "metadata": {},
     "output_type": "execute_result"
    }
   ],
   "source": [
    "35>7"
   ]
  },
  {
   "cell_type": "code",
   "execution_count": 17,
   "id": "4e8c4fad",
   "metadata": {},
   "outputs": [
    {
     "data": {
      "text/plain": [
       "True"
      ]
     },
     "execution_count": 17,
     "metadata": {},
     "output_type": "execute_result"
    }
   ],
   "source": [
    "53>7"
   ]
  },
  {
   "cell_type": "code",
   "execution_count": 47,
   "id": "819b2dbf",
   "metadata": {},
   "outputs": [
    {
     "name": "stdout",
     "output_type": "stream",
     "text": [
      "c is big\n"
     ]
    }
   ],
   "source": [
    "a=5\n",
    "b=6\n",
    "c=8\n",
    "if a>b and a>c:\n",
    "    print(\"a is big\")\n",
    "else:\n",
    "    print(\"c is big\")"
   ]
  },
  {
   "cell_type": "markdown",
   "id": "cb49dfbc",
   "metadata": {},
   "source": [
    "## logical operator"
   ]
  },
  {
   "cell_type": "code",
   "execution_count": null,
   "id": "c1b4b355",
   "metadata": {},
   "outputs": [],
   "source": []
  },
  {
   "cell_type": "markdown",
   "id": "7791e332",
   "metadata": {},
   "source": [
    "- and,or,not\n",
    "- if all the inputs are true the output is true(and)\n",
    "- if any of input is true the output is true(or)\n",
    "- opposite operation for the given one"
   ]
  },
  {
   "cell_type": "code",
   "execution_count": 8,
   "id": "feec4b2d",
   "metadata": {},
   "outputs": [
    {
     "data": {
      "text/plain": [
       "True"
      ]
     },
     "execution_count": 8,
     "metadata": {},
     "output_type": "execute_result"
    }
   ],
   "source": [
    "2<5 and 3<6"
   ]
  },
  {
   "cell_type": "code",
   "execution_count": 9,
   "id": "159e8aa3",
   "metadata": {},
   "outputs": [
    {
     "data": {
      "text/plain": [
       "False"
      ]
     },
     "execution_count": 9,
     "metadata": {},
     "output_type": "execute_result"
    }
   ],
   "source": [
    "2>5 and 3<6\n"
   ]
  },
  {
   "cell_type": "code",
   "execution_count": 11,
   "id": "aa3841f3",
   "metadata": {},
   "outputs": [
    {
     "data": {
      "text/plain": [
       "True"
      ]
     },
     "execution_count": 11,
     "metadata": {},
     "output_type": "execute_result"
    }
   ],
   "source": [
    "3<9 and 4>0"
   ]
  },
  {
   "cell_type": "code",
   "execution_count": 12,
   "id": "18a20a00",
   "metadata": {},
   "outputs": [
    {
     "data": {
      "text/plain": [
       "True"
      ]
     },
     "execution_count": 12,
     "metadata": {},
     "output_type": "execute_result"
    }
   ],
   "source": [
    "4<8 and 5>2"
   ]
  },
  {
   "cell_type": "code",
   "execution_count": 14,
   "id": "87e833eb",
   "metadata": {},
   "outputs": [
    {
     "data": {
      "text/plain": [
       "False"
      ]
     },
     "execution_count": 14,
     "metadata": {},
     "output_type": "execute_result"
    }
   ],
   "source": [
    "5>9 and 8<3"
   ]
  },
  {
   "cell_type": "code",
   "execution_count": 15,
   "id": "ee61e872",
   "metadata": {},
   "outputs": [
    {
     "data": {
      "text/plain": [
       "False"
      ]
     },
     "execution_count": 15,
     "metadata": {},
     "output_type": "execute_result"
    }
   ],
   "source": [
    "a=100\n",
    "not a"
   ]
  },
  {
   "cell_type": "markdown",
   "id": "32144ca3",
   "metadata": {},
   "source": [
    "# bitwise operator"
   ]
  },
  {
   "cell_type": "code",
   "execution_count": 18,
   "id": "d5abe28d",
   "metadata": {},
   "outputs": [
    {
     "data": {
      "text/plain": [
       "2"
      ]
     },
     "execution_count": 18,
     "metadata": {},
     "output_type": "execute_result"
    }
   ],
   "source": [
    "2 & 3\n",
    "# 2- 0 0 1 0\n",
    "# 3- 0 0 1 1\n",
    "-------------\n",
    "# - 0 0 1 0"
   ]
  },
  {
   "cell_type": "code",
   "execution_count": 19,
   "id": "0d06c284",
   "metadata": {},
   "outputs": [
    {
     "data": {
      "text/plain": [
       "7"
      ]
     },
     "execution_count": 19,
     "metadata": {},
     "output_type": "execute_result"
    }
   ],
   "source": [
    "3|4"
   ]
  },
  {
   "cell_type": "code",
   "execution_count": 21,
   "id": "ed4d1a57",
   "metadata": {},
   "outputs": [
    {
     "data": {
      "text/plain": [
       "16"
      ]
     },
     "execution_count": 21,
     "metadata": {},
     "output_type": "execute_result"
    }
   ],
   "source": [
    "2<<3"
   ]
  },
  {
   "cell_type": "code",
   "execution_count": 22,
   "id": "dda9d833",
   "metadata": {},
   "outputs": [
    {
     "data": {
      "text/plain": [
       "0"
      ]
     },
     "execution_count": 22,
     "metadata": {},
     "output_type": "execute_result"
    }
   ],
   "source": [
    "2>>3"
   ]
  },
  {
   "cell_type": "code",
   "execution_count": 25,
   "id": "76b1cebd",
   "metadata": {},
   "outputs": [
    {
     "data": {
      "text/plain": [
       "16"
      ]
     },
     "execution_count": 25,
     "metadata": {},
     "output_type": "execute_result"
    }
   ],
   "source": [
    "2<<3"
   ]
  },
  {
   "cell_type": "markdown",
   "id": "5af1b6dd",
   "metadata": {},
   "source": [
    "# identity operator"
   ]
  },
  {
   "cell_type": "code",
   "execution_count": 26,
   "id": "847d2a47",
   "metadata": {},
   "outputs": [
    {
     "name": "stderr",
     "output_type": "stream",
     "text": [
      "<>:1: SyntaxWarning: \"is\" with a literal. Did you mean \"==\"?\n",
      "<>:1: SyntaxWarning: \"is not\" with a literal. Did you mean \"!=\"?\n",
      "<>:1: SyntaxWarning: \"is\" with a literal. Did you mean \"==\"?\n",
      "<>:1: SyntaxWarning: \"is not\" with a literal. Did you mean \"!=\"?\n",
      "C:\\Users\\Lab\\AppData\\Local\\Temp/ipykernel_3528/1988167162.py:1: SyntaxWarning: \"is\" with a literal. Did you mean \"==\"?\n",
      "  a is 100 and a is not 100\n",
      "C:\\Users\\Lab\\AppData\\Local\\Temp/ipykernel_3528/1988167162.py:1: SyntaxWarning: \"is not\" with a literal. Did you mean \"!=\"?\n",
      "  a is 100 and a is not 100\n"
     ]
    },
    {
     "data": {
      "text/plain": [
       "False"
      ]
     },
     "execution_count": 26,
     "metadata": {},
     "output_type": "execute_result"
    }
   ],
   "source": [
    "a is 100 and a is not 100"
   ]
  },
  {
   "cell_type": "code",
   "execution_count": 30,
   "id": "f39bcd2c",
   "metadata": {},
   "outputs": [
    {
     "data": {
      "text/plain": [
       "False"
      ]
     },
     "execution_count": 30,
     "metadata": {},
     "output_type": "execute_result"
    }
   ],
   "source": [
    "a==100 and a!=100"
   ]
  },
  {
   "cell_type": "markdown",
   "id": "01cb3a24",
   "metadata": {},
   "source": [
    "## membership operator"
   ]
  },
  {
   "cell_type": "code",
   "execution_count": 31,
   "id": "3a2fe879",
   "metadata": {},
   "outputs": [
    {
     "data": {
      "text/plain": [
       "True"
      ]
     },
     "execution_count": 31,
     "metadata": {},
     "output_type": "execute_result"
    }
   ],
   "source": [
    "s=[1,2,3,4,5,6,7,8,9]\n",
    "4 in s"
   ]
  },
  {
   "cell_type": "code",
   "execution_count": 32,
   "id": "d547a1dd",
   "metadata": {},
   "outputs": [
    {
     "data": {
      "text/plain": [
       "True"
      ]
     },
     "execution_count": 32,
     "metadata": {},
     "output_type": "execute_result"
    }
   ],
   "source": [
    "10 not in s\n"
   ]
  },
  {
   "cell_type": "code",
   "execution_count": 34,
   "id": "04b531d7",
   "metadata": {},
   "outputs": [
    {
     "data": {
      "text/plain": [
       "False"
      ]
     },
     "execution_count": 34,
     "metadata": {},
     "output_type": "execute_result"
    }
   ],
   "source": [
    "7  not in s"
   ]
  },
  {
   "cell_type": "code",
   "execution_count": 35,
   "id": "c755a695",
   "metadata": {},
   "outputs": [
    {
     "data": {
      "text/plain": [
       "21"
      ]
     },
     "execution_count": 35,
     "metadata": {},
     "output_type": "execute_result"
    }
   ],
   "source": [
    "a=20\n",
    "a=a+1\n",
    "a"
   ]
  },
  {
   "cell_type": "code",
   "execution_count": 54,
   "id": "75913d6b",
   "metadata": {},
   "outputs": [],
   "source": [
    "f=44\n",
    "a+=1"
   ]
  },
  {
   "cell_type": "code",
   "execution_count": 51,
   "id": "130a4d66",
   "metadata": {},
   "outputs": [
    {
     "data": {
      "text/plain": [
       "45"
      ]
     },
     "execution_count": 51,
     "metadata": {},
     "output_type": "execute_result"
    }
   ],
   "source": [
    "f"
   ]
  },
  {
   "cell_type": "markdown",
   "id": "06456090",
   "metadata": {},
   "source": [
    "# flow controls"
   ]
  },
  {
   "cell_type": "markdown",
   "id": "1377b45e",
   "metadata": {},
   "source": [
    "- conditional statements(if,else,elif,nestedif)"
   ]
  },
  {
   "cell_type": "markdown",
   "id": "19d33db2",
   "metadata": {},
   "source": [
    "- loops(for while)\n",
    "- break,continue"
   ]
  },
  {
   "cell_type": "code",
   "execution_count": 58,
   "id": "f647cb4e",
   "metadata": {},
   "outputs": [],
   "source": [
    "#c-language\n",
    "#if(condition):{\n",
    "    #print(a)\n",
    "#}"
   ]
  },
  {
   "cell_type": "markdown",
   "id": "b1c32d31",
   "metadata": {},
   "source": [
    "# conditional statememts"
   ]
  },
  {
   "cell_type": "code",
   "execution_count": null,
   "id": "031bd80e",
   "metadata": {},
   "outputs": [],
   "source": [
    "# if\n",
    "if (condition):\n",
    "    statement1\n",
    "    statement2\n",
    "    statement3\n",
    "    ----------\n",
    "    statementn"
   ]
  },
  {
   "cell_type": "code",
   "execution_count": null,
   "id": "bdddabfc",
   "metadata": {},
   "outputs": [],
   "source": [
    "#if-else\n",
    "if (condition):\n",
    "    statement1\n",
    "    statement2\n",
    "    statement3\n",
    "    ----------\n",
    "    statementn\n",
    "else:\n",
    "    statement1\n",
    "    statement2\n",
    "    -----------\n",
    "    statementn"
   ]
  },
  {
   "cell_type": "code",
   "execution_count": null,
   "id": "b14d2304",
   "metadata": {},
   "outputs": [],
   "source": [
    "if 2>3:\n",
    "        print(\"true\")\n",
    "        print(\"false\")"
   ]
  },
  {
   "cell_type": "code",
   "execution_count": 59,
   "id": "7049c3ba",
   "metadata": {},
   "outputs": [
    {
     "name": "stdout",
     "output_type": "stream",
     "text": [
      "false\n"
     ]
    }
   ],
   "source": [
    "if 2>3:\n",
    "        print(\"true\")\n",
    "else:\n",
    "        print(\"false\")"
   ]
  },
  {
   "cell_type": "code",
   "execution_count": 60,
   "id": "1820f661",
   "metadata": {},
   "outputs": [
    {
     "name": "stdout",
     "output_type": "stream",
     "text": [
      "enter n number7\n",
      "odd number\n"
     ]
    }
   ],
   "source": [
    "# given number is even or odd\n",
    "n=int(input(\"enter n number\"))\n",
    "if(n%2==0):\n",
    "    print(\"even number\")\n",
    "else:\n",
    "    print(\"odd number\")"
   ]
  },
  {
   "cell_type": "code",
   "execution_count": 61,
   "id": "9fec894f",
   "metadata": {},
   "outputs": [
    {
     "name": "stdout",
     "output_type": "stream",
     "text": [
      "enter n number2\n",
      "even number\n"
     ]
    }
   ],
   "source": [
    "n=int(input(\"enter n number\"))\n",
    "if(n%2==0):\n",
    "    print(\"even number\")\n",
    "else:\n",
    "    print(\"odd number\")"
   ]
  },
  {
   "cell_type": "code",
   "execution_count": 66,
   "id": "ae917535",
   "metadata": {},
   "outputs": [
    {
     "name": "stdout",
     "output_type": "stream",
     "text": [
      "enter n number0\n",
      "given number is zero\n"
     ]
    }
   ],
   "source": [
    "#given number is zero or positive or negative\n",
    "n=n=int(input(\"enter n number\"))\n",
    "if(n==0):\n",
    "     print(\"given number is zero\")\n",
    "elif(n>0):\n",
    "     print(\"positive number\")\n",
    "else:\n",
    "     print(\"negative number\")"
   ]
  },
  {
   "cell_type": "code",
   "execution_count": 69,
   "id": "24fdcbd2",
   "metadata": {},
   "outputs": [
    {
     "name": "stdout",
     "output_type": "stream",
     "text": [
      "enter n number2\n",
      "positive number\n"
     ]
    }
   ],
   "source": [
    "n=int(input(\"enter n number\"))\n",
    "if(n==0):\n",
    "     print(\"given number is zero\")\n",
    "elif(n>0):\n",
    "     print(\"positive number\")\n",
    "else:\n",
    "     print(\"negative number\")"
   ]
  },
  {
   "cell_type": "code",
   "execution_count": 68,
   "id": "88091a05",
   "metadata": {},
   "outputs": [
    {
     "name": "stdout",
     "output_type": "stream",
     "text": [
      "enter n number-1\n",
      "negative number\n"
     ]
    }
   ],
   "source": [
    "n=int(input(\"enter n number\"))\n",
    "if(n==0):\n",
    "     print(\"given number is zero\")\n",
    "elif(n>0):\n",
    "     print(\"positive number\")\n",
    "else:\n",
    "     print(\"negative number\")"
   ]
  },
  {
   "cell_type": "code",
   "execution_count": 71,
   "id": "be17de3c",
   "metadata": {},
   "outputs": [
    {
     "name": "stdout",
     "output_type": "stream",
     "text": [
      "valid number\n"
     ]
    },
    {
     "name": "stderr",
     "output_type": "stream",
     "text": [
      "<>:3: SyntaxWarning: \"is\" with a literal. Did you mean \"==\"?\n",
      "<>:3: SyntaxWarning: \"is not\" with a literal. Did you mean \"!=\"?\n",
      "<>:3: SyntaxWarning: \"is\" with a literal. Did you mean \"==\"?\n",
      "<>:3: SyntaxWarning: \"is not\" with a literal. Did you mean \"!=\"?\n",
      "C:\\Users\\Lab\\AppData\\Local\\Temp/ipykernel_3528/2344138179.py:3: SyntaxWarning: \"is\" with a literal. Did you mean \"==\"?\n",
      "  if a%2 is 0 and a%10 is not 0:\n",
      "C:\\Users\\Lab\\AppData\\Local\\Temp/ipykernel_3528/2344138179.py:3: SyntaxWarning: \"is not\" with a literal. Did you mean \"!=\"?\n",
      "  if a%2 is 0 and a%10 is not 0:\n"
     ]
    }
   ],
   "source": [
    "#number is divisible by 2 but not divisible by 10\n",
    "a=2\n",
    "if a%2 is 0 and a%10 is not 0:\n",
    "    print(\"valid number\")\n",
    "else:\n",
    "    print(\"invalid number\")\n"
   ]
  },
  {
   "cell_type": "code",
   "execution_count": 73,
   "id": "62d35c21",
   "metadata": {},
   "outputs": [
    {
     "name": "stdout",
     "output_type": "stream",
     "text": [
      "invalid number\n"
     ]
    },
    {
     "name": "stderr",
     "output_type": "stream",
     "text": [
      "<>:3: SyntaxWarning: \"is\" with a literal. Did you mean \"==\"?\n",
      "<>:3: SyntaxWarning: \"is not\" with a literal. Did you mean \"!=\"?\n",
      "<>:3: SyntaxWarning: \"is\" with a literal. Did you mean \"==\"?\n",
      "<>:3: SyntaxWarning: \"is not\" with a literal. Did you mean \"!=\"?\n",
      "C:\\Users\\Lab\\AppData\\Local\\Temp/ipykernel_3528/4126712424.py:3: SyntaxWarning: \"is\" with a literal. Did you mean \"==\"?\n",
      "  if a%2 is 0 and a%10 is not 0:\n",
      "C:\\Users\\Lab\\AppData\\Local\\Temp/ipykernel_3528/4126712424.py:3: SyntaxWarning: \"is not\" with a literal. Did you mean \"!=\"?\n",
      "  if a%2 is 0 and a%10 is not 0:\n"
     ]
    }
   ],
   "source": [
    "#number is divisible by 2 but not divisible by 10\n",
    "a=200\n",
    "if a%2 is 0 and a%10 is not 0:\n",
    "    print(\"valid number\")\n",
    "else:\n",
    "    print(\"invalid number\")\n"
   ]
  },
  {
   "cell_type": "markdown",
   "id": "e99feb77",
   "metadata": {},
   "source": [
    "## range "
   ]
  },
  {
   "cell_type": "markdown",
   "id": "5b3c9be6",
   "metadata": {},
   "source": [
    "- syntax for the range is range (start,endvalue,stepvalue)\n",
    "- starting value is inclusive and end value is exclusive"
   ]
  },
  {
   "cell_type": "markdown",
   "id": "aae8850c",
   "metadata": {},
   "source": [
    "range(start,end,step)"
   ]
  },
  {
   "cell_type": "code",
   "execution_count": null,
   "id": "e13421a4",
   "metadata": {},
   "outputs": [],
   "source": [
    "range(10,20,1)\n",
    "# 10,11,12,13,14,15,16,17,18,19\n",
    "range(20,30,2)\n",
    "# 20,22,24,26,28\n",
    "range(20,41,5)\n",
    "#25,30,35,40\n",
    "range(50)\n",
    "# consider as start value\n",
    "range(20,30)\n",
    "# consider start value anmd end value\n",
    "# reverse print\n",
    "range(10,10,-1)\n"
   ]
  },
  {
   "cell_type": "code",
   "execution_count": 2,
   "id": "5cb847b1",
   "metadata": {},
   "outputs": [
    {
     "data": {
      "text/plain": [
       "[10, 11, 12, 13, 14, 15, 16, 17, 18, 19]"
      ]
     },
     "execution_count": 2,
     "metadata": {},
     "output_type": "execute_result"
    }
   ],
   "source": [
    "list(range(10,20,1))"
   ]
  },
  {
   "cell_type": "code",
   "execution_count": 3,
   "id": "7e722bd5",
   "metadata": {},
   "outputs": [
    {
     "data": {
      "text/plain": [
       "[20, 22, 24, 26, 28]"
      ]
     },
     "execution_count": 3,
     "metadata": {},
     "output_type": "execute_result"
    }
   ],
   "source": [
    "list(range(20,30,2))"
   ]
  },
  {
   "cell_type": "code",
   "execution_count": 4,
   "id": "4cbd371c",
   "metadata": {},
   "outputs": [
    {
     "data": {
      "text/plain": [
       "[0, 1, 2, 3, 4, 5, 6, 7, 8, 9]"
      ]
     },
     "execution_count": 4,
     "metadata": {},
     "output_type": "execute_result"
    }
   ],
   "source": [
    "list(range(10))"
   ]
  },
  {
   "cell_type": "code",
   "execution_count": 5,
   "id": "1ae365c1",
   "metadata": {},
   "outputs": [
    {
     "data": {
      "text/plain": [
       "[20, 21, 22, 23, 24, 25, 26, 27, 28, 29]"
      ]
     },
     "execution_count": 5,
     "metadata": {},
     "output_type": "execute_result"
    }
   ],
   "source": [
    "list(range(20,30))"
   ]
  },
  {
   "cell_type": "code",
   "execution_count": 6,
   "id": "62c5c530",
   "metadata": {},
   "outputs": [
    {
     "data": {
      "text/plain": [
       "range(10, 10, -1)"
      ]
     },
     "execution_count": 6,
     "metadata": {},
     "output_type": "execute_result"
    }
   ],
   "source": [
    "range(10,10,-1)"
   ]
  },
  {
   "cell_type": "markdown",
   "id": "9ef4f630",
   "metadata": {},
   "source": [
    "#  loops"
   ]
  },
  {
   "cell_type": "markdown",
   "id": "8315b556",
   "metadata": {},
   "source": [
    "- for,while\n",
    "- for loop ::: A for loop in python is a control flow statement that is used to repeatedly execute agroup statements aslong as the condition is satisfied such a type statements is also known an itterative statements \n",
    "- therefore..a for loop is an itterative statements"
   ]
  },
  {
   "cell_type": "code",
   "execution_count": null,
   "id": "8033a749",
   "metadata": {},
   "outputs": [],
   "source": [
    "syntax:::\n",
    "        for iter in iterable:#range prtedefined function in the position of revolver\n",
    "                statement1\n",
    "                statement2\n",
    "                statementn\n",
    "                \n",
    "    "
   ]
  },
  {
   "cell_type": "code",
   "execution_count": 1,
   "id": "fda0bcfb",
   "metadata": {},
   "outputs": [
    {
     "name": "stdout",
     "output_type": "stream",
     "text": [
      "0\n",
      "1\n",
      "2\n",
      "3\n",
      "4\n"
     ]
    }
   ],
   "source": [
    "for i in range(5):\n",
    "    print(i)"
   ]
  },
  {
   "cell_type": "code",
   "execution_count": 2,
   "id": "3064f801",
   "metadata": {},
   "outputs": [
    {
     "name": "stdout",
     "output_type": "stream",
     "text": [
      "0 1 2 3 4 "
     ]
    }
   ],
   "source": [
    "for i in range(5):\n",
    "    print(i,end=\" \")"
   ]
  },
  {
   "cell_type": "code",
   "execution_count": 3,
   "id": "c2517c84",
   "metadata": {},
   "outputs": [
    {
     "name": "stdout",
     "output_type": "stream",
     "text": [
      "0 ,1 ,2 ,3 ,4 ,"
     ]
    }
   ],
   "source": [
    "for i in range(5):\n",
    "    print(i,end=\" ,\")"
   ]
  },
  {
   "cell_type": "code",
   "execution_count": 4,
   "id": "89469384",
   "metadata": {},
   "outputs": [
    {
     "name": "stdout",
     "output_type": "stream",
     "text": [
      "0 2 4 6 8 "
     ]
    }
   ],
   "source": [
    "for i in range(0,10,2):\n",
    "    print(i,end=\" \")"
   ]
  },
  {
   "cell_type": "code",
   "execution_count": 5,
   "id": "97abb3e9",
   "metadata": {},
   "outputs": [
    {
     "name": "stdout",
     "output_type": "stream",
     "text": [
      "0 2 4 6 8 10 "
     ]
    }
   ],
   "source": [
    "for i in range(0,11,2):\n",
    "    print(i,end=\" \")"
   ]
  },
  {
   "cell_type": "code",
   "execution_count": 7,
   "id": "d4dc6cac",
   "metadata": {},
   "outputs": [
    {
     "name": "stdout",
     "output_type": "stream",
     "text": [
      "0 2 4 6 8 10 12 14 16 18 20 22 24 26 28 30 32 34 36 38 40 42 44 46 48 50 52 54 56 58 60 62 64 66 68 70 72 74 76 78 80 82 84 86 88 90 92 94 96 98 100 \n",
      "even number count: 51\n"
     ]
    }
   ],
   "source": [
    "#print the even number in the range of 0 to 100 and print even number count\n",
    "c=0\n",
    "for i in range(0,101,2):\n",
    "    c=c+1\n",
    "    print(i,end=\" \")\n",
    "print(\"\\neven number count:\",c)"
   ]
  },
  {
   "cell_type": "code",
   "execution_count": 8,
   "id": "63e2c710",
   "metadata": {},
   "outputs": [
    {
     "name": "stdout",
     "output_type": "stream",
     "text": [
      "0 2 4 6 8 10 12 14 16 18 20 22 24 26 28 30 32 34 36 38 40 42 44 46 48 50 52 54 56 58 60 62 64 66 68 70 72 74 76 78 80 82 84 86 88 90 92 94 96 98 100 \n",
      "even number count: 51\n"
     ]
    }
   ],
   "source": [
    "c=0\n",
    "for i in range(0,101,):\n",
    "    if i%2==0:\n",
    "        c=c+1\n",
    "        print(i,end=\" \")\n",
    "print(\"\\neven number count:\",c)"
   ]
  },
  {
   "cell_type": "code",
   "execution_count": 13,
   "id": "d04c99e4",
   "metadata": {},
   "outputs": [
    {
     "name": "stdout",
     "output_type": "stream",
     "text": [
      "2000\n",
      "2020\n",
      "2000 2004 2008 2012 2016 2020 \n",
      "years count: 6\n"
     ]
    }
   ],
   "source": [
    "#print leap year range of 2000 to 2020, print years count also\n",
    "x=int(input())\n",
    "y=int(input())\n",
    "c=0\n",
    "for i in range(x,y+1):\n",
    "    if(i%400==0) and (i%100!=0) or (i%4==0):\n",
    "        c=c+1\n",
    "        print(i,end=\" \")\n",
    "print(\"\\nyears count:\",c)"
   ]
  },
  {
   "cell_type": "code",
   "execution_count": 16,
   "id": "258b7ed7",
   "metadata": {},
   "outputs": [
    {
     "name": "stdout",
     "output_type": "stream",
     "text": [
      "5 x 1 = 5\n",
      "5 x 2 = 10\n",
      "5 x 3 = 15\n",
      "5 x 4 = 20\n",
      "5 x 5 = 25\n",
      "5 x 6 = 30\n",
      "5 x 7 = 35\n",
      "5 x 8 = 40\n",
      "5 x 9 = 45\n",
      "5 x 10 = 50\n"
     ]
    }
   ],
   "source": [
    "#print 5 table by using range\n",
    "num=5\n",
    "for i in range(1,11):\n",
    "    print(num,'x',i,'=',num*i)"
   ]
  },
  {
   "cell_type": "code",
   "execution_count": 19,
   "id": "e1e94312",
   "metadata": {},
   "outputs": [
    {
     "name": "stdout",
     "output_type": "stream",
     "text": [
      "1\n",
      "5\n"
     ]
    }
   ],
   "source": [
    "#factors of 5\n",
    "num=5\n",
    "def print_factor(x):\n",
    "    for i in range(1,x + 1):\n",
    "        if(x%i==0):\n",
    "            print(i)\n",
    "print_factor(num)"
   ]
  },
  {
   "cell_type": "code",
   "execution_count": 22,
   "id": "4fbe8c2d",
   "metadata": {},
   "outputs": [
    {
     "name": "stdout",
     "output_type": "stream",
     "text": [
      "abc\n",
      "304\n"
     ]
    }
   ],
   "source": [
    "# I/p=abc\n",
    "# 97+98+97=292\n",
    "# o/p 292\n",
    "a=input()\n",
    "s=10\n",
    "for i in a:\n",
    "        s=s+ord(i)\n",
    "print(s)"
   ]
  },
  {
   "cell_type": "code",
   "execution_count": 25,
   "id": "c105925c",
   "metadata": {},
   "outputs": [
    {
     "name": "stdout",
     "output_type": "stream",
     "text": [
      "ABC\n",
      "198\n"
     ]
    }
   ],
   "source": [
    "# I/p=abc\n",
    "# 97+98+97=292\n",
    "# o/p 292\n",
    "a=input()\n",
    "s=0\n",
    "for i in a:\n",
    "    s=s+ord(i)\n",
    "print(s)"
   ]
  },
  {
   "cell_type": "code",
   "execution_count": 30,
   "id": "b071d979",
   "metadata": {},
   "outputs": [
    {
     "name": "stdout",
     "output_type": "stream",
     "text": [
      "5\n",
      "prime number\n"
     ]
    }
   ],
   "source": [
    "#PRIME NUMBER\n",
    "n=int(input())\n",
    "c=0\n",
    "for i in range(1,1+n):\n",
    "    if(n%i==0):\n",
    "        c=c+1\n",
    "if(c==2):\n",
    "    print(\"prime number\")\n",
    "else:\n",
    "    print(\"not prime number\")"
   ]
  },
  {
   "cell_type": "code",
   "execution_count": 47,
   "id": "d43f1a6f",
   "metadata": {},
   "outputs": [
    {
     "name": "stdout",
     "output_type": "stream",
     "text": [
      "0 2 4 6 8 \n",
      "\n",
      "1 3 5 7 9 "
     ]
    }
   ],
   "source": [
    "#0-10\n",
    "#even numbers:\n",
    "#0dd numbers:\n",
    "for i in range (0,10):\n",
    "    if(i%2==0):\n",
    "        print(i,end=\" \")\n",
    "print(\"\\n\")\n",
    "for i in range (0,10):\n",
    "    if(i%2!=0):\n",
    "        print(i,end=\" \")\n"
   ]
  },
  {
   "cell_type": "code",
   "execution_count": null,
   "id": "3f5fdf91",
   "metadata": {},
   "outputs": [],
   "source": []
  }
 ],
 "metadata": {
  "kernelspec": {
   "display_name": "Python 3 (ipykernel)",
   "language": "python",
   "name": "python3"
  },
  "language_info": {
   "codemirror_mode": {
    "name": "ipython",
    "version": 3
   },
   "file_extension": ".py",
   "mimetype": "text/x-python",
   "name": "python",
   "nbconvert_exporter": "python",
   "pygments_lexer": "ipython3",
   "version": "3.9.7"
  }
 },
 "nbformat": 4,
 "nbformat_minor": 5
}
