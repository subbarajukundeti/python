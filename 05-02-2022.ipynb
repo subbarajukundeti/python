{
 "cells": [
  {
   "cell_type": "markdown",
   "id": "a43b7b8a",
   "metadata": {},
   "source": [
    "### File Handling  \n",
    "- File : file is a named location or memory used to store relative information  \n",
    "   - .csv, .py, .html, .txt, .ipynb, mp4  \n",
    "- File handling : it aloows user to handle files  \n",
    "- compared to other languages programming in file handling is easy in python  \n",
    "- Read and write files along with the other files handle options to work on file\n",
    "\n",
    "- Steps of the handling  \n",
    "   - Open file  \n",
    "   - Doing operations  \n",
    "   - Close a file  \n",
    "   \n",
    "- Open function()\n",
    "   - we use open fun() in python to open the file in read and write options  \n",
    "   - to return a object we use in open function() along 2 arguments that accepts the filename and mode.whether read or write  \n",
    "   - syntax::open(filename.mode) \n",
    "   \n",
    "- modes are three types to open a file  \n",
    "   - read()--'r' ---> to read a file  \n",
    "      - file_variable.read(size)  \n",
    "   - write()--'W'---> to write a file  \n",
    "      - file_variable.write(data)  \n",
    "   - append()--'a' ---> to add information to a file  \n",
    "      - file_variable.append(data)  \n",
    "\n",
    "- by default the file will open as 'r' mode  \n",
    "- close()  \n",
    "   - it is used to close a file  \n",
    "   - every time you have to close a file at the end of the operations.oterwise the changes will not be applicable"
   ]
  },
  {
   "cell_type": "code",
   "execution_count": 1,
   "id": "5059a9ab",
   "metadata": {},
   "outputs": [
    {
     "name": "stdout",
     "output_type": "stream",
     "text": [
      "Successfully opened\n"
     ]
    }
   ],
   "source": [
    "f=open(\"data.txt\",'r')  \n",
    "if f:\n",
    "    print(\"Successfully opened\")  \n",
    "else:\n",
    "    print(\"failed\")  "
   ]
  },
  {
   "cell_type": "code",
   "execution_count": 2,
   "id": "0de124d5",
   "metadata": {},
   "outputs": [
    {
     "name": "stdout",
     "output_type": "stream",
     "text": [
      "Good Morning, Welcome Vasavi Students\n"
     ]
    }
   ],
   "source": [
    "# read  \n",
    "f=open(\"data.txt\")  \n",
    "print(f.read())  \n",
    "f.close()  "
   ]
  },
  {
   "cell_type": "code",
   "execution_count": 3,
   "id": "9ce5c15e",
   "metadata": {},
   "outputs": [
    {
     "name": "stdout",
     "output_type": "stream",
     "text": [
      "Good Morning, Welcome Vasavi Students\n"
     ]
    }
   ],
   "source": [
    "# using with keyword automatically file will be closed  \n",
    "with open(\"data.txt\") as f:\n",
    "    fr=f.read()\n",
    "    print(fr)"
   ]
  },
  {
   "cell_type": "code",
   "execution_count": 5,
   "id": "2ff8d8c5",
   "metadata": {},
   "outputs": [
    {
     "name": "stdout",
     "output_type": "stream",
     "text": [
      "Good M\n"
     ]
    },
    {
     "data": {
      "text/plain": [
       "<function TextIOWrapper.close()>"
      ]
     },
     "execution_count": 5,
     "metadata": {},
     "output_type": "execute_result"
    }
   ],
   "source": [
    "f=open(\"data.txt\") \n",
    "print(f.read(6))\n",
    "f.close  "
   ]
  },
  {
   "cell_type": "code",
   "execution_count": 6,
   "id": "91f588e5",
   "metadata": {},
   "outputs": [
    {
     "name": "stdout",
     "output_type": "stream",
     "text": [
      "18\n"
     ]
    }
   ],
   "source": [
    "f=open(\"data1.txt\",'w')\n",
    "fr=f.write(\"python programming\")  \n",
    "print(fr)\n",
    "f.close()"
   ]
  },
  {
   "cell_type": "markdown",
   "id": "17400ec0",
   "metadata": {},
   "source": [
    "### File Handling Methods  \n",
    "- open()\n",
    "- read()\n",
    "- write()\n",
    "- close()\n",
    "- readline()\n",
    "- readlines()\n",
    "- seek()\n",
    "- tell()\n",
    "- Types of modes:\n",
    "   - read()--'r'\n",
    "   - write()--'w'\n",
    "   - append()--'a'"
   ]
  },
  {
   "cell_type": "code",
   "execution_count": 7,
   "id": "1eef9ed6",
   "metadata": {},
   "outputs": [],
   "source": [
    "f=open(\"data.txt\")  "
   ]
  },
  {
   "cell_type": "code",
   "execution_count": 8,
   "id": "58bc66f6",
   "metadata": {},
   "outputs": [],
   "source": [
    "info=f.read(6)"
   ]
  },
  {
   "cell_type": "code",
   "execution_count": 9,
   "id": "eab964c0",
   "metadata": {},
   "outputs": [
    {
     "name": "stdout",
     "output_type": "stream",
     "text": [
      "Good M\n"
     ]
    }
   ],
   "source": [
    "print(info)"
   ]
  },
  {
   "cell_type": "code",
   "execution_count": 10,
   "id": "40edb01d",
   "metadata": {},
   "outputs": [
    {
     "name": "stdout",
     "output_type": "stream",
     "text": [
      "orning, Welcome Vasavi Students\n"
     ]
    }
   ],
   "source": [
    "d=f.read()\n",
    "print(d)"
   ]
  },
  {
   "cell_type": "code",
   "execution_count": 11,
   "id": "4b12a631",
   "metadata": {},
   "outputs": [],
   "source": [
    "f.close()"
   ]
  },
  {
   "cell_type": "code",
   "execution_count": 12,
   "id": "b16a1bf0",
   "metadata": {},
   "outputs": [],
   "source": [
    "# write mode()\n",
    "# it is used to write something in file  \n",
    "# if file is not their directory, the file will be created and data will be written in that file  "
   ]
  },
  {
   "cell_type": "code",
   "execution_count": 13,
   "id": "978d020d",
   "metadata": {},
   "outputs": [],
   "source": [
    "fo=open('data.txt','w')  "
   ]
  },
  {
   "cell_type": "code",
   "execution_count": 19,
   "id": "a5e0110b",
   "metadata": {},
   "outputs": [
    {
     "name": "stdout",
     "output_type": "stream",
     "text": [
      "<_io.TextIOWrapper name='data.txt' mode='w' encoding='cp1252'>\n"
     ]
    }
   ],
   "source": [
    "fo.write(\"gudbye\")\n",
    "print(fo)"
   ]
  },
  {
   "cell_type": "code",
   "execution_count": 16,
   "id": "34a74b45",
   "metadata": {},
   "outputs": [
    {
     "data": {
      "text/plain": [
       "26"
      ]
     },
     "execution_count": 16,
     "metadata": {},
     "output_type": "execute_result"
    }
   ],
   "source": [
    "f=open('data.txt','a')\n",
    "f.write(\"asadfgh lkjhgfdsa qwertyui\")"
   ]
  },
  {
   "cell_type": "code",
   "execution_count": 17,
   "id": "325b18cb",
   "metadata": {},
   "outputs": [
    {
     "name": "stdout",
     "output_type": "stream",
     "text": [
      "<_io.TextIOWrapper name='data.txt' mode='a' encoding='cp1252'>\n"
     ]
    }
   ],
   "source": [
    "print(f)"
   ]
  },
  {
   "cell_type": "code",
   "execution_count": 18,
   "id": "6c01090f",
   "metadata": {},
   "outputs": [
    {
     "name": "stdout",
     "output_type": "stream",
     "text": [
      "asadfghjk lkjhgfdsa qwertyuiasadfgh lkjhgfdsa qwertyui\n",
      "\n"
     ]
    }
   ],
   "source": [
    "f=open(\"data.txt\",'r')\n",
    "s=f.readline()\n",
    "print(s)\n",
    "t=f.readline()\n",
    "print(t)"
   ]
  },
  {
   "cell_type": "code",
   "execution_count": 21,
   "id": "47f46e36",
   "metadata": {},
   "outputs": [
    {
     "name": "stdout",
     "output_type": "stream",
     "text": [
      "number of lines in the file: 1\n"
     ]
    }
   ],
   "source": [
    "# number of lines in the file\n",
    "with open(\"data.txt\",'r') as f:\n",
    "    no_of_lines=f.readlines()\n",
    "    print(\"number of lines in the file:\",len(no_of_lines))"
   ]
  },
  {
   "cell_type": "code",
   "execution_count": 22,
   "id": "79dfcf3c",
   "metadata": {},
   "outputs": [
    {
     "name": "stdout",
     "output_type": "stream",
     "text": [
      "number of words are: 5\n"
     ]
    }
   ],
   "source": [
    "# no of words in the given file  \n",
    "words=0\n",
    "for line in no_of_lines:\n",
    "    words_list=line.split()\n",
    "    words+=len(words_list)\n",
    "print(\"number of words are:\",words)  "
   ]
  },
  {
   "cell_type": "code",
   "execution_count": null,
   "id": "b502e261",
   "metadata": {},
   "outputs": [],
   "source": []
  }
 ],
 "metadata": {
  "kernelspec": {
   "display_name": "Python 3 (ipykernel)",
   "language": "python",
   "name": "python3"
  },
  "language_info": {
   "codemirror_mode": {
    "name": "ipython",
    "version": 3
   },
   "file_extension": ".py",
   "mimetype": "text/x-python",
   "name": "python",
   "nbconvert_exporter": "python",
   "pygments_lexer": "ipython3",
   "version": "3.9.7"
  }
 },
 "nbformat": 4,
 "nbformat_minor": 5
}
